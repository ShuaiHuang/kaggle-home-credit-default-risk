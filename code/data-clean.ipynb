{
 "cells": [
  {
   "cell_type": "markdown",
   "metadata": {},
   "source": [
    "# 数据清洗\n",
    "\n",
    "数据清洗策略子项:\n",
    "- 申请者个人 / 家庭基本信息\n",
    "- 申请者联系方式\n",
    "- 申请者车辆购置情况\n",
    "- 申请者工作情况\n",
    "- 申请者房产情况\n",
    "- 贷款申请材料\n",
    "- 申请者社交状况\n",
    "- 风险评估\n",
    "\n",
    "每个策略子项从两个方面进行清洗:\n",
    "- 与业务逻辑相结合判断是否存在异常值\n",
    "- 从统计学意义上进行判断是否存在异常值\n",
    "\n",
    "清洗完成后:\n",
    "- **标记**异常项, 暂时不删除异常项\n",
    "- 对文本类型的特征项进行数值化处理\n",
    "- 对数值化类型的特征项进行合适的数值化处理\n",
    "- 对于缺失值填充`np.nan`或者单独列成一类"
   ]
  },
  {
   "cell_type": "code",
   "execution_count": 2,
   "metadata": {},
   "outputs": [],
   "source": [
    "import os\n",
    "import pandas as pd\n",
    "import numpy as np\n",
    "import matplotlib.pyplot as plt\n",
    "%matplotlib inline"
   ]
  },
  {
   "cell_type": "code",
   "execution_count": 3,
   "metadata": {},
   "outputs": [],
   "source": [
    "DATA_DIR = '../data'\n",
    "APP_TRAIN_FILENAME = 'application_train.csv'\n",
    "APP_TEST_FILENAME = 'application_test.csv'\n",
    "BUREAU_FILENAME = 'bereau.csv'\n",
    "BUREAU_BALANCE_FILENAME = 'bureau_balance.csv'\n",
    "CREDIT_CARD_BALANCE_FILENAME = 'credit_card_balance.csv'\n",
    "INSTALLMENTS_PAYMENTS = 'installments_payments.csv'\n",
    "POS_CACHE_BALANCE_FILENAME = 'POS_CACHE_balance.csv'\n",
    "PREVIOUS_APP_FILENAME = 'previous_application.csv'"
   ]
  },
  {
   "cell_type": "code",
   "execution_count": 4,
   "metadata": {},
   "outputs": [],
   "source": [
    "user_df = pd.read_csv(os.path.join(DATA_DIR, APP_TRAIN_FILENAME))\n",
    "cleaned_df = user_df.loc[:, ['SK_ID_CURR', 'TARGET']].copy()"
   ]
  },
  {
   "cell_type": "code",
   "execution_count": 5,
   "metadata": {},
   "outputs": [],
   "source": [
    "def detectOutlier(dataSeries):\n",
    "    quantile_1_4 = dataSeries.quantile(0.25)\n",
    "    quantile_3_4 = dataSeries.quantile(0.75)\n",
    "    validRange = 1.5 * (quantile_3_4 - quantile_1_4)\n",
    "    minValue = quantile_1_4 - validRange\n",
    "    maxValue = quantile_3_4 + validRange\n",
    "    return dataSeries[(dataSeries > maxValue) | (dataSeries) < minValue]"
   ]
  },
  {
   "cell_type": "code",
   "execution_count": 6,
   "metadata": {},
   "outputs": [],
   "source": [
    "def detectOutlierRecords(dataFrame, cols):\n",
    "    outlierCounter = np.full((dataFrame.shape[0], ), 0, dtype=np.int)\n",
    "    for col in cols:\n",
    "        curOutlierFlag = detectOutlier(dataFrame[col])\n",
    "        print(col, curOutlierFlag)\n",
    "        outlierCounter[curOutlierFlag] = outlierCounter[curOutlierFlag] + 1\n",
    "    return outlierCounter"
   ]
  },
  {
   "cell_type": "markdown",
   "metadata": {},
   "source": [
    "## 申请者个人 / 家庭基本信息\n",
    "\n",
    "主要包含以下字段:\n",
    "- SK_ID_CURR\n",
    "- TARGET\n",
    "- CODE_GENDER\n",
    "- DAYS_BIRTH\n",
    "- DAYS_REGISTRATION\n",
    "- DAYS_ID_PUBLISH\n",
    "- NAME_EDUCATION_TYPE\n",
    "- CNT_CHILDREN\n",
    "- CNT_FAM_MEMBERS\n",
    "- NAME_FAMILY_STATUS\n",
    "\n",
    "有效性检查包括:\n",
    "\n",
    "- DAYS_BIRTH >= DAYS_REGISTRATION\n",
    "- ~~DAYS_BIRTH >= DAYS_ID_PUBLISH~~\n",
    "- ~~NAME_FAMILY_STATUS 是否与 CNT_CHILDREN 以及 CNT_FAM_MEMBERS 冲突~~\n",
    "- ~~CNT_FAM_MEMBERS < CNT_CHILDREN~~\n",
    "\n",
    "**ATTN**:\n",
    "- 对于原表使用`loc`选择单列是引用, 选择多列是复制."
   ]
  },
  {
   "cell_type": "code",
   "execution_count": 7,
   "metadata": {},
   "outputs": [],
   "source": [
    "PER_FAM_FACTORS = ['SK_ID_CURR', 'TARGET', 'CODE_GENDER',\n",
    "                   'DAYS_BIRTH', 'DAYS_REGISTRATION', 'DAYS_ID_PUBLISH',\n",
    "                   'NAME_EDUCATION_TYPE', 'CNT_CHILDREN', 'CNT_FAM_MEMBERS',\n",
    "                   'NAME_FAMILY_STATUS']"
   ]
  },
  {
   "cell_type": "code",
   "execution_count": 8,
   "metadata": {
    "scrolled": true
   },
   "outputs": [
    {
     "name": "stdout",
     "output_type": "stream",
     "text": [
      "----------------------------------------------------------------------------------------------------\n",
      "        SK_ID_CURR  TARGET  DAYS_BIRTH  DAYS_REGISTRATION\n",
      "266366      408583       0      -10116      -10116.041667\n",
      "----------------------------------------------------------------------------------------------------\n",
      "Empty DataFrame\n",
      "Columns: [SK_ID_CURR, TARGET, DAYS_BIRTH, DAYS_ID_PUBLISH]\n",
      "Index: []\n",
      "----------------------------------------------------------------------------------------------------\n",
      "Empty DataFrame\n",
      "Columns: [SK_ID_CURR, TARGET, CNT_FAM_MEMBERS, CNT_CHILDREN]\n",
      "Index: []\n",
      "----------------------------------------------------------------------------------------------------\n"
     ]
    }
   ],
   "source": [
    "print('-' * 100)\n",
    "print(user_df.loc[user_df['DAYS_BIRTH'] > user_df['DAYS_REGISTRATION'], ['SK_ID_CURR', 'TARGET', 'DAYS_BIRTH', 'DAYS_REGISTRATION']])\n",
    "print('-' * 100)\n",
    "print(user_df.loc[user_df['DAYS_BIRTH'] > user_df['DAYS_ID_PUBLISH'], ['SK_ID_CURR', 'TARGET', 'DAYS_BIRTH', 'DAYS_ID_PUBLISH']])\n",
    "print('-' * 100)\n",
    "print(user_df.loc[user_df['CNT_FAM_MEMBERS'] < user_df['CNT_CHILDREN'], ['SK_ID_CURR', 'TARGET', 'CNT_FAM_MEMBERS', 'CNT_CHILDREN']])\n",
    "print('-' * 100)"
   ]
  },
  {
   "cell_type": "markdown",
   "metadata": {},
   "source": [
    "### CODE_GENDER\n",
    "\n",
    "- 'M' - 0\n",
    "- 'F' - 1\n",
    "- 'XNA' - `np.nan`"
   ]
  },
  {
   "cell_type": "code",
   "execution_count": 9,
   "metadata": {},
   "outputs": [
    {
     "data": {
      "text/plain": [
       "array(['M', 'F', 'XNA'], dtype=object)"
      ]
     },
     "execution_count": 9,
     "metadata": {},
     "output_type": "execute_result"
    }
   ],
   "source": [
    "user_df.loc[:, 'CODE_GENDER'].unique()"
   ]
  },
  {
   "cell_type": "code",
   "execution_count": 10,
   "metadata": {},
   "outputs": [],
   "source": [
    "cleaned_df.loc[:, 'CODE_GENDER'] = user_df['CODE_GENDER'].replace(['M', 'F', 'XNA'], [0, 1, np.nan])"
   ]
  },
  {
   "cell_type": "markdown",
   "metadata": {},
   "source": [
    "### DAYS_BIRTH"
   ]
  },
  {
   "cell_type": "code",
   "execution_count": 11,
   "metadata": {},
   "outputs": [],
   "source": [
    "cleaned_df.loc[:, 'DAYS_BIRTH'] = -user_df['DAYS_BIRTH']"
   ]
  },
  {
   "cell_type": "markdown",
   "metadata": {},
   "source": [
    "### DAYS_REGISTRATION"
   ]
  },
  {
   "cell_type": "code",
   "execution_count": 12,
   "metadata": {},
   "outputs": [],
   "source": [
    "cleaned_df.loc[:, 'DAYS_REGISTRATION'] = -user_df['DAYS_REGISTRATION']"
   ]
  },
  {
   "cell_type": "markdown",
   "metadata": {},
   "source": [
    "### DAYS_ID_PUBLISH"
   ]
  },
  {
   "cell_type": "code",
   "execution_count": 13,
   "metadata": {},
   "outputs": [],
   "source": [
    "cleaned_df.loc[:, 'DAYS_ID_PUBLISH'] = -user_df['DAYS_ID_PUBLISH']"
   ]
  },
  {
   "cell_type": "markdown",
   "metadata": {},
   "source": [
    "### NAME_EDUCATION_TYPE\n",
    "\n",
    "- `Secondary / secondary special` - 0\n",
    "- `Higher education` - 1\n",
    "- `Incomplete higher` - 2\n",
    "- `Lower secondary` - 3\n",
    "- `Academic degree` - 4"
   ]
  },
  {
   "cell_type": "code",
   "execution_count": 14,
   "metadata": {},
   "outputs": [],
   "source": [
    "cleaned_df.loc[:, 'NAME_EDUCATION_TYPE'] = user_df['NAME_EDUCATION_TYPE'].replace(['Secondary / secondary special', 'Higher education', 'Incomplete higher', 'Lower secondary', 'Academic degree'], range(0, 5))"
   ]
  },
  {
   "cell_type": "markdown",
   "metadata": {},
   "source": [
    "### CNT_CHILDREN"
   ]
  },
  {
   "cell_type": "code",
   "execution_count": 15,
   "metadata": {},
   "outputs": [],
   "source": [
    "cleaned_df.loc[:, 'CNT_CHILDREN'] = user_df['CNT_CHILDREN']"
   ]
  },
  {
   "cell_type": "markdown",
   "metadata": {},
   "source": [
    "### CNT_FAM_MEMBERS"
   ]
  },
  {
   "cell_type": "code",
   "execution_count": 16,
   "metadata": {},
   "outputs": [],
   "source": [
    "cleaned_df.loc[:, 'CNT_FAM_MEMBERS'] = user_df['CNT_FAM_MEMBERS'].fillna(np.nan)"
   ]
  },
  {
   "cell_type": "markdown",
   "metadata": {},
   "source": [
    "### NAME_FAMILY_STATUS\n",
    "\n",
    "- Married 0\n",
    "- Single / not married 1\n",
    "- Civil marriage 2\n",
    "- Separated 3\n",
    "- Widow 4\n",
    "- Unknown 5"
   ]
  },
  {
   "cell_type": "code",
   "execution_count": 17,
   "metadata": {},
   "outputs": [],
   "source": [
    "cleaned_df.loc[:, 'NAME_FAMILY_STATUS'] = user_df['NAME_FAMILY_STATUS'].replace(['Married', 'Single / not married', 'Civil marriage', 'Separated', 'Widow', 'Unknown'], [0, 1, 2, 3, 4, np.nan])"
   ]
  },
  {
   "cell_type": "markdown",
   "metadata": {},
   "source": [
    "## 申请者联系方式\n",
    "\n",
    "- FLAG_MOBIL\n",
    "- FLAG_PHONE\n",
    "- FLAG_EMAIL\n",
    "- FLAG_CONT_MOBILE"
   ]
  },
  {
   "cell_type": "code",
   "execution_count": 18,
   "metadata": {},
   "outputs": [],
   "source": [
    "CONTACT_FACTOR = ['FLAG_MOBIL', 'FLAG_PHONE', 'FLAG_EMAIL', 'FLAG_CONT_MOBILE']"
   ]
  },
  {
   "cell_type": "markdown",
   "metadata": {},
   "source": [
    "### FLAG_MOBIL"
   ]
  },
  {
   "cell_type": "code",
   "execution_count": 19,
   "metadata": {},
   "outputs": [],
   "source": [
    "cleaned_df.loc[:, 'FLAG_MOBIL'] = user_df['FLAG_MOBIL']"
   ]
  },
  {
   "cell_type": "markdown",
   "metadata": {},
   "source": [
    "### FLAG_PHONE"
   ]
  },
  {
   "cell_type": "code",
   "execution_count": 20,
   "metadata": {},
   "outputs": [],
   "source": [
    "cleaned_df.loc[:, 'FLAG_PHONE'] = user_df['FLAG_PHONE']"
   ]
  },
  {
   "cell_type": "markdown",
   "metadata": {},
   "source": [
    "### FLAG_EMAIL"
   ]
  },
  {
   "cell_type": "code",
   "execution_count": 21,
   "metadata": {},
   "outputs": [],
   "source": [
    "cleaned_df.loc[:, 'FLAG_EMAIL'] = user_df['FLAG_EMAIL']"
   ]
  },
  {
   "cell_type": "markdown",
   "metadata": {},
   "source": [
    "### FLAG_CONT_MOBILE"
   ]
  },
  {
   "cell_type": "code",
   "execution_count": 22,
   "metadata": {},
   "outputs": [],
   "source": [
    "cleaned_df.loc[:, 'FLAG_CONT_MOBILE'] = user_df['FLAG_CONT_MOBILE']"
   ]
  },
  {
   "cell_type": "markdown",
   "metadata": {},
   "source": [
    "## 申请者车辆购置情况\n",
    "\n",
    "- FLAG_OWN_CAR\n",
    "- OWN_CAR_AGE"
   ]
  },
  {
   "cell_type": "markdown",
   "metadata": {},
   "source": [
    "### FLAG_OWN_CAR\n",
    "\n",
    "- N - 0\n",
    "- Y - 1"
   ]
  },
  {
   "cell_type": "code",
   "execution_count": 23,
   "metadata": {},
   "outputs": [],
   "source": [
    "cleaned_df.loc[:, 'FLAG_OWN_CAR'] = user_df['FLAG_OWN_CAR'].replace(['N', 'Y'], [0, 1])"
   ]
  },
  {
   "cell_type": "markdown",
   "metadata": {},
   "source": [
    "### OWN_CAR_AGE"
   ]
  },
  {
   "cell_type": "code",
   "execution_count": 24,
   "metadata": {},
   "outputs": [],
   "source": [
    "cleaned_df.loc[:, 'OWN_CAR_AGE'] = user_df['OWN_CAR_AGE'].fillna(np.nan)"
   ]
  },
  {
   "cell_type": "markdown",
   "metadata": {},
   "source": [
    "## 申请者工作情况\n",
    "\n",
    "- DAYS_EMPLOYED\n",
    "- FLAG_EMP_PHONE\n",
    "- FLAG_WORK_PHONE\n",
    "- ORGANIZATION_TYPE\n",
    "- NAME_INCOME_TYPE\n",
    "- OCCUPATION_TYPE\n",
    "- AMT_INCOME_TOTAL"
   ]
  },
  {
   "cell_type": "markdown",
   "metadata": {},
   "source": [
    "### DAYS_EMPLOYED"
   ]
  },
  {
   "cell_type": "code",
   "execution_count": 25,
   "metadata": {},
   "outputs": [],
   "source": [
    "cleaned_df.loc[:, 'DAYS_EMPLOYED'] = -(user_df['DAYS_EMPLOYED'].replace(365243, np.nan))"
   ]
  },
  {
   "cell_type": "markdown",
   "metadata": {},
   "source": [
    "### FLAG_EMP_PHONE"
   ]
  },
  {
   "cell_type": "code",
   "execution_count": 26,
   "metadata": {},
   "outputs": [],
   "source": [
    "cleaned_df.loc[:, 'FLAG_EMP_PHONE'] = user_df['FLAG_EMP_PHONE']"
   ]
  },
  {
   "cell_type": "markdown",
   "metadata": {},
   "source": [
    "### FLAG_WORK_PHONE"
   ]
  },
  {
   "cell_type": "code",
   "execution_count": 27,
   "metadata": {},
   "outputs": [],
   "source": [
    "cleaned_df.loc[:, 'FLAG_WORK_PHONE'] = user_df['FLAG_WORK_PHONE']"
   ]
  },
  {
   "cell_type": "markdown",
   "metadata": {},
   "source": [
    "### ORGANIZATION_TYPE\n",
    "\n",
    "没有缺失值, 直接映射成数值."
   ]
  },
  {
   "cell_type": "code",
   "execution_count": 28,
   "metadata": {},
   "outputs": [],
   "source": [
    "cleaned_df.loc[:, 'ORGANIZATION_TYPE'] = user_df['ORGANIZATION_TYPE'].replace(user_df['ORGANIZATION_TYPE'].unique(), range(len(user_df['ORGANIZATION_TYPE'].unique())))"
   ]
  },
  {
   "cell_type": "markdown",
   "metadata": {},
   "source": [
    "### NAME_INCOME_TYPE\n",
    "\n",
    "没有缺失值, 直接映射成数值."
   ]
  },
  {
   "cell_type": "code",
   "execution_count": 29,
   "metadata": {},
   "outputs": [],
   "source": [
    "cleaned_df.loc[:, 'NAME_INCOME_TYPE'] = user_df['NAME_INCOME_TYPE'].replace(user_df['NAME_INCOME_TYPE'].unique(), range(len(user_df['NAME_INCOME_TYPE'].unique())))"
   ]
  },
  {
   "cell_type": "markdown",
   "metadata": {},
   "source": [
    "### AMT_INCOME_TOTAL"
   ]
  },
  {
   "cell_type": "code",
   "execution_count": 30,
   "metadata": {},
   "outputs": [],
   "source": [
    "cleaned_df.loc[:, 'AMT_INCOME_TOTAL'] = user_df['AMT_INCOME_TOTAL']"
   ]
  },
  {
   "cell_type": "markdown",
   "metadata": {},
   "source": [
    "### OCCUPATION_TYPE"
   ]
  },
  {
   "cell_type": "code",
   "execution_count": 31,
   "metadata": {},
   "outputs": [],
   "source": [
    "occupationType = user_df.loc[user_df['OCCUPATION_TYPE'].notnull(), 'OCCUPATION_TYPE'].unique()"
   ]
  },
  {
   "cell_type": "code",
   "execution_count": 32,
   "metadata": {},
   "outputs": [],
   "source": [
    "cleaned_df.loc[:, 'OCCUPATION_TYPE'] = user_df['OCCUPATION_TYPE'].replace(occupationType, range(len(occupationType)))"
   ]
  },
  {
   "cell_type": "markdown",
   "metadata": {},
   "source": [
    "## 申请者房产情况\n",
    "\n",
    "- FLAG_OWN_REALTY\n",
    "- NAME_HOUSING_TYPE\n",
    "- REGION_POPULATION_RELATIVE\n",
    "- REGION_RATING_CLIENT\n",
    "- REGION_RATING_CLIENT_W_CITY\n",
    "- APARTMENTS_AVG\n",
    "- BASEMENTAREA_AVG\n",
    "- YEARS_BEGINEXPLUATATION_AVG\n",
    "- YEARS_BUILD_AVG\n",
    "- COMMONAREA_AVG\n",
    "- ELEVATORS_AVG\n",
    "- ENTRANCES_AVG\n",
    "- FLOORSMAX_AVG\n",
    "- FLOORSMIN_AVG\n",
    "- LANDAREA_AVG\n",
    "- LIVINGAPARTMENTS_AVG\n",
    "- LIVINGAREA_AVG\n",
    "- NONLIVINGAPARTMENTS_AVG\n",
    "- NONLIVINGAREA_AVG\n",
    "- APARTMENTS_MODE\n",
    "- BASEMENTAREA_MODE\n",
    "- YEARS_BEGINEXPLUATATION_MODE\n",
    "- YEARS_BUILD_MODE\n",
    "- COMMONAREA_MODE\n",
    "- ELEVATORS_MODE\n",
    "- ENTRANCES_MODE\n",
    "- FLOORSMAX_MODE\n",
    "- FLOORSMIN_MODE\n",
    "- LANDAREA_MODE\n",
    "- LIVINGAPARTMENTS_MODE\n",
    "- LIVINGAREA_MODE\n",
    "- NONLIVINGAPARTMENTS_MODE\n",
    "- NONLIVINGAREA_MODE\n",
    "- APARTMENTS_MEDI\n",
    "- BASEMENTAREA_MEDI\n",
    "- YEARS_BEGINEXPLUATATION_MEDI\n",
    "- YEARS_BUILD_MEDI\n",
    "- COMMONAREA_MEDI\n",
    "- ELEVATORS_MEDI\n",
    "- ENTRANCES_MEDI\n",
    "- FLOORSMAX_MEDI\n",
    "- FLOORSMIN_MEDI\n",
    "- LANDAREA_MEDI\n",
    "- LIVINGAPARTMENTS_MEDI\n",
    "- LIVINGAREA_MEDI\n",
    "- NONLIVINGAPARTMENTS_MEDI\n",
    "- NONLIVINGAREA_MEDI\n",
    "- FONDKAPREMONT_MODE\n",
    "- HOUSETYPE_MODE\n",
    "- TOTALAREA_MODE\n",
    "- WALLSMATERIAL_MODE\n",
    "- EMERGENCYSTATE_MODE"
   ]
  },
  {
   "cell_type": "code",
   "execution_count": 33,
   "metadata": {},
   "outputs": [],
   "source": [
    "cleaned_df.loc[:, 'FLAG_OWN_REALTY'] = user_df['FLAG_OWN_REALTY'].replace(['N', 'Y'], [0, 1])"
   ]
  },
  {
   "cell_type": "markdown",
   "metadata": {},
   "source": [
    "### NAME_HOUSING_TYPE"
   ]
  },
  {
   "cell_type": "code",
   "execution_count": 34,
   "metadata": {},
   "outputs": [
    {
     "name": "stdout",
     "output_type": "stream",
     "text": [
      "['House / apartment' 'Rented apartment' 'With parents'\n",
      " 'Municipal apartment' 'Office apartment' 'Co-op apartment']\n"
     ]
    }
   ],
   "source": [
    "housingType = user_df.loc[user_df['NAME_HOUSING_TYPE'].notnull(), 'NAME_HOUSING_TYPE'].unique()\n",
    "print(housingType)\n",
    "cleaned_df.loc[:, 'NAME_HOUSING_TYPE'] = user_df['NAME_HOUSING_TYPE'].replace(housingType, range(len(housingType)))"
   ]
  },
  {
   "cell_type": "markdown",
   "metadata": {},
   "source": [
    "### FONDKAPREMONT_MODE"
   ]
  },
  {
   "cell_type": "code",
   "execution_count": 35,
   "metadata": {},
   "outputs": [
    {
     "name": "stdout",
     "output_type": "stream",
     "text": [
      "['reg oper account' 'org spec account' 'reg oper spec account'\n",
      " 'not specified']\n"
     ]
    }
   ],
   "source": [
    "fondKapremont = user_df.loc[user_df['FONDKAPREMONT_MODE'].notnull(), 'FONDKAPREMONT_MODE'].unique()\n",
    "print(fondKapremont)"
   ]
  },
  {
   "cell_type": "code",
   "execution_count": 36,
   "metadata": {},
   "outputs": [],
   "source": [
    "cleaned_df.loc[:, 'FONDKAPREMONT_MODE'] = user_df['FONDKAPREMONT_MODE'].replace(fondKapremont, range(len(fondKapremont))).fillna(np.nan)"
   ]
  },
  {
   "cell_type": "markdown",
   "metadata": {},
   "source": [
    "### HOUSETYPE_MODE"
   ]
  },
  {
   "cell_type": "code",
   "execution_count": 37,
   "metadata": {},
   "outputs": [
    {
     "name": "stdout",
     "output_type": "stream",
     "text": [
      "['block of flats' 'terraced house' 'specific housing']\n"
     ]
    }
   ],
   "source": [
    "houseTypeMode = user_df.loc[user_df['HOUSETYPE_MODE'].notnull(), 'HOUSETYPE_MODE'].unique()\n",
    "print(houseTypeMode)"
   ]
  },
  {
   "cell_type": "code",
   "execution_count": 38,
   "metadata": {},
   "outputs": [],
   "source": [
    "cleaned_df.loc[:, 'HOUSETYPE_MODE'] = user_df['HOUSETYPE_MODE'].replace(houseTypeMode, range(len(houseTypeMode))).fillna(np.nan)"
   ]
  },
  {
   "cell_type": "markdown",
   "metadata": {},
   "source": [
    "### TOTALAREA_MODE"
   ]
  },
  {
   "cell_type": "code",
   "execution_count": 39,
   "metadata": {},
   "outputs": [],
   "source": [
    "cleaned_df.loc[:, 'TOTALAREA_MODE'] = user_df['TOTALAREA_MODE'].fillna(np.nan)"
   ]
  },
  {
   "cell_type": "markdown",
   "metadata": {},
   "source": [
    "### WALLSMATERIAL_MODE"
   ]
  },
  {
   "cell_type": "code",
   "execution_count": 40,
   "metadata": {},
   "outputs": [
    {
     "name": "stdout",
     "output_type": "stream",
     "text": [
      "['Stone, brick' 'Block' 'Panel' 'Mixed' 'Wooden' 'Others' 'Monolithic']\n"
     ]
    }
   ],
   "source": [
    "wallsMaterialMode = user_df.loc[user_df['WALLSMATERIAL_MODE'].notnull(), 'WALLSMATERIAL_MODE'].unique()\n",
    "print(wallsMaterialMode)"
   ]
  },
  {
   "cell_type": "code",
   "execution_count": 41,
   "metadata": {},
   "outputs": [],
   "source": [
    "cleaned_df.loc[:, 'WALLSMATERIAL_MODE'] = user_df['WALLSMATERIAL_MODE'].replace(wallsMaterialMode, range(len(wallsMaterialMode))).fillna(np.nan)"
   ]
  },
  {
   "cell_type": "markdown",
   "metadata": {},
   "source": [
    "### EMERGENCYSTATE_MODE"
   ]
  },
  {
   "cell_type": "code",
   "execution_count": 42,
   "metadata": {},
   "outputs": [
    {
     "name": "stdout",
     "output_type": "stream",
     "text": [
      "['No' 'Yes']\n"
     ]
    }
   ],
   "source": [
    "emergencyStateMode = user_df.loc[user_df['EMERGENCYSTATE_MODE'].notnull(), 'EMERGENCYSTATE_MODE'].unique()\n",
    "print(emergencyStateMode)"
   ]
  },
  {
   "cell_type": "code",
   "execution_count": 43,
   "metadata": {},
   "outputs": [],
   "source": [
    "cleaned_df.loc[:, 'EMERGENCYSTATE_MODE'] = user_df['EMERGENCYSTATE_MODE'].replace(emergencyStateMode, range(len(emergencyStateMode))).fillna(np.nan)"
   ]
  },
  {
   "cell_type": "markdown",
   "metadata": {},
   "source": [
    "### OTHERS\n",
    "\n",
    "- REGION_POPULATION_RELATIVE\n",
    "- REGION_RATING_CLIENT\n",
    "- REGION_RATING_CLIENT_W_CITY\n",
    "- APARTMENTS_AVG\n",
    "- BASEMENTAREA_AVG\n",
    "- YEARS_BEGINEXPLUATATION_AVG\n",
    "- YEARS_BUILD_AVG\n",
    "- COMMONAREA_AVG\n",
    "- ELEVATORS_AVG\n",
    "- ENTRANCES_AVG\n",
    "- FLOORSMAX_AVG\n",
    "- FLOORSMIN_AVG\n",
    "- LANDAREA_AVG\n",
    "- LIVINGAPARTMENTS_AVG\n",
    "- LIVINGAREA_AVG\n",
    "- NONLIVINGAPARTMENTS_AVG\n",
    "- NONLIVINGAREA_AVG\n",
    "- APARTMENTS_MODE\n",
    "- BASEMENTAREA_MODE\n",
    "- YEARS_BEGINEXPLUATATION_MODE\n",
    "- YEARS_BUILD_MODE\n",
    "- COMMONAREA_MODE\n",
    "- ELEVATORS_MODE\n",
    "- ENTRANCES_MODE\n",
    "- FLOORSMAX_MODE\n",
    "- FLOORSMIN_MODE\n",
    "- LANDAREA_MODE\n",
    "- LIVINGAPARTMENTS_MODE\n",
    "- LIVINGAREA_MODE\n",
    "- NONLIVINGAPARTMENTS_MODE\n",
    "- NONLIVINGAREA_MODE\n",
    "- APARTMENTS_MEDI\n",
    "- BASEMENTAREA_MEDI\n",
    "- YEARS_BEGINEXPLUATATION_MEDI\n",
    "- YEARS_BUILD_MEDI\n",
    "- COMMONAREA_MEDI\n",
    "- ELEVATORS_MEDI\n",
    "- ENTRANCES_MEDI\n",
    "- FLOORSMAX_MEDI\n",
    "- FLOORSMIN_MEDI\n",
    "- LANDAREA_MEDI\n",
    "- LIVINGAPARTMENTS_MEDI\n",
    "- LIVINGAREA_MEDI\n",
    "- NONLIVINGAPARTMENTS_MEDI\n",
    "- NONLIVINGAREA_MEDI"
   ]
  },
  {
   "cell_type": "code",
   "execution_count": 44,
   "metadata": {},
   "outputs": [],
   "source": [
    "realtyFactors = [\n",
    "    'REGION_POPULATION_RELATIVE',\n",
    "    'REGION_RATING_CLIENT',\n",
    "    'REGION_RATING_CLIENT_W_CITY',\n",
    "    'APARTMENTS_AVG',\n",
    "    'BASEMENTAREA_AVG',\n",
    "    'YEARS_BEGINEXPLUATATION_AVG',\n",
    "    'YEARS_BUILD_AVG',\n",
    "    'COMMONAREA_AVG',\n",
    "    'ELEVATORS_AVG',\n",
    "    'ENTRANCES_AVG',\n",
    "    'FLOORSMAX_AVG',\n",
    "    'FLOORSMIN_AVG',\n",
    "    'LANDAREA_AVG',\n",
    "    'LIVINGAPARTMENTS_AVG',\n",
    "    'LIVINGAREA_AVG',\n",
    "    'NONLIVINGAPARTMENTS_AVG',\n",
    "    'NONLIVINGAREA_AVG',\n",
    "    'APARTMENTS_MODE',\n",
    "    'BASEMENTAREA_MODE',\n",
    "    'YEARS_BEGINEXPLUATATION_MODE',\n",
    "    'YEARS_BUILD_MODE',\n",
    "    'COMMONAREA_MODE',\n",
    "    'ELEVATORS_MODE',\n",
    "    'ENTRANCES_MODE',\n",
    "    'FLOORSMAX_MODE',\n",
    "    'FLOORSMIN_MODE',\n",
    "    'LANDAREA_MODE',\n",
    "    'LIVINGAPARTMENTS_MODE',\n",
    "    'LIVINGAREA_MODE',\n",
    "    'NONLIVINGAPARTMENTS_MODE',\n",
    "    'NONLIVINGAREA_MODE',\n",
    "    'APARTMENTS_MEDI',\n",
    "    'BASEMENTAREA_MEDI',\n",
    "    'YEARS_BEGINEXPLUATATION_MEDI',\n",
    "    'YEARS_BUILD_MEDI',\n",
    "    'COMMONAREA_MEDI',\n",
    "    'ELEVATORS_MEDI',\n",
    "    'ENTRANCES_MEDI',\n",
    "    'FLOORSMAX_MEDI',\n",
    "    'FLOORSMIN_MEDI',\n",
    "    'LANDAREA_MEDI',\n",
    "    'LIVINGAPARTMENTS_MEDI',\n",
    "    'LIVINGAREA_MEDI',\n",
    "    'NONLIVINGAPARTMENTS_MEDI',\n",
    "    'NONLIVINGAREA_MEDI']"
   ]
  },
  {
   "cell_type": "code",
   "execution_count": 45,
   "metadata": {},
   "outputs": [],
   "source": [
    "for curFactor in realtyFactors:\n",
    "    cleaned_df.loc[:, curFactor] = user_df[curFactor].fillna(np.nan)"
   ]
  },
  {
   "cell_type": "markdown",
   "metadata": {},
   "source": [
    "## 风险评估\n",
    "\n",
    "- REG_REGION_NOT_LIVE_REGION\n",
    "- REG_CITY_NOT_LIVE_CITY\n",
    "- REG_CITY_NOT_WORK_CITY\n",
    "- LIVE_CITY_NOT_WORK_CITY\n",
    "- DAYS_LAST_PHONE_CHANGE\n",
    "- REG_REGION_NOT_WORK_REGION\n",
    "- LIVE_REGION_NOT_WORK_REGION\n",
    "- EXT_SOURCE_1\n",
    "- EXT_SOURCE_2\n",
    "- EXT_SOURCE_3"
   ]
  },
  {
   "cell_type": "markdown",
   "metadata": {},
   "source": [
    "### DAYS_LAST_PHONE_CHANGE"
   ]
  },
  {
   "cell_type": "code",
   "execution_count": 46,
   "metadata": {},
   "outputs": [],
   "source": [
    "cleaned_df.loc[:, 'DAYS_LAST_PHONE_CHANGE'] = -(user_df['DAYS_LAST_PHONE_CHANGE']).fillna(np.nan)"
   ]
  },
  {
   "cell_type": "markdown",
   "metadata": {},
   "source": [
    "### OTHERS"
   ]
  },
  {
   "cell_type": "code",
   "execution_count": 47,
   "metadata": {},
   "outputs": [],
   "source": [
    "riskFactors = [\n",
    "    'REG_REGION_NOT_LIVE_REGION',\n",
    "    'REG_CITY_NOT_LIVE_CITY',\n",
    "    'REG_CITY_NOT_WORK_CITY',\n",
    "    'LIVE_CITY_NOT_WORK_CITY',\n",
    "    'REG_REGION_NOT_WORK_REGION',\n",
    "    'LIVE_REGION_NOT_WORK_REGION',\n",
    "    'EXT_SOURCE_1',\n",
    "    'EXT_SOURCE_2',\n",
    "    'EXT_SOURCE_3'\n",
    "]"
   ]
  },
  {
   "cell_type": "code",
   "execution_count": 48,
   "metadata": {},
   "outputs": [],
   "source": [
    "for curFactor in riskFactors:\n",
    "    cleaned_df.loc[:, curFactor] = user_df[curFactor].fillna(np.nan)"
   ]
  },
  {
   "cell_type": "markdown",
   "metadata": {},
   "source": [
    "## 贷款申请材料\n",
    "\n",
    "- NAME_CONTRACT_TYPE\n",
    "- AMT_CREDIT\n",
    "- AMT_ANNUITY\n",
    "- AMT_GOODS_PRICE\n",
    "- NAME_TYPE_SUITE\n",
    "- WEEKDAY_APPR_PROCESS_START\n",
    "- HOUR_APPR_PROCESS_START\n",
    "- AMT_REQ_CREDIT_BUREAU_HOUR\n",
    "- AMT_REQ_CREDIT_BUREAU_DAY\n",
    "- AMT_REQ_CREDIT_BUREAU_WEEK\n",
    "- AMT_REQ_CREDIT_BUREAU_MON\n",
    "- AMT_REQ_CREDIT_BUREAU_QRT\n",
    "- AMT_REQ_CREDIT_BUREAU_YEAR\n",
    "- FLAG_DOCUMENT_2\n",
    "- FLAG_DOCUMENT_3\n",
    "- FLAG_DOCUMENT_4\n",
    "- FLAG_DOCUMENT_5\n",
    "- FLAG_DOCUMENT_6\n",
    "- FLAG_DOCUMENT_7\n",
    "- FLAG_DOCUMENT_8\n",
    "- FLAG_DOCUMENT_9\n",
    "- FLAG_DOCUMENT_10\n",
    "- FLAG_DOCUMENT_11\n",
    "- FLAG_DOCUMENT_12\n",
    "- FLAG_DOCUMENT_13\n",
    "- FLAG_DOCUMENT_14\n",
    "- FLAG_DOCUMENT_15\n",
    "- FLAG_DOCUMENT_16\n",
    "- FLAG_DOCUMENT_17\n",
    "- FLAG_DOCUMENT_18\n",
    "- FLAG_DOCUMENT_19\n",
    "- FLAG_DOCUMENT_20\n",
    "- FLAG_DOCUMENT_21"
   ]
  },
  {
   "cell_type": "markdown",
   "metadata": {},
   "source": [
    "### NAME_CONTRACT_TYPE"
   ]
  },
  {
   "cell_type": "code",
   "execution_count": 49,
   "metadata": {},
   "outputs": [
    {
     "name": "stdout",
     "output_type": "stream",
     "text": [
      "['Cash loans' 'Revolving loans']\n"
     ]
    }
   ],
   "source": [
    "contractType = user_df.loc[user_df['NAME_CONTRACT_TYPE'].notnull(), 'NAME_CONTRACT_TYPE'].unique()\n",
    "print(contractType)"
   ]
  },
  {
   "cell_type": "code",
   "execution_count": 50,
   "metadata": {},
   "outputs": [],
   "source": [
    "cleaned_df.loc[:, 'NAME_CONTRACT_TYPE'] = user_df['NAME_CONTRACT_TYPE'].replace(contractType, range(len(contractType))).fillna(np.nan)"
   ]
  },
  {
   "cell_type": "markdown",
   "metadata": {},
   "source": [
    "### NAME_TYPE_SUITE"
   ]
  },
  {
   "cell_type": "code",
   "execution_count": 51,
   "metadata": {},
   "outputs": [
    {
     "name": "stdout",
     "output_type": "stream",
     "text": [
      "['Unaccompanied' 'Family' 'Spouse, partner' 'Children' 'Other_A' 'Other_B'\n",
      " 'Group of people']\n"
     ]
    }
   ],
   "source": [
    "typeSuite = user_df.loc[user_df['NAME_TYPE_SUITE'].notnull(), 'NAME_TYPE_SUITE'].unique()\n",
    "print(typeSuite)"
   ]
  },
  {
   "cell_type": "code",
   "execution_count": 52,
   "metadata": {},
   "outputs": [],
   "source": [
    "cleaned_df.loc[:, 'NAME_TYPE_SUITE'] = user_df['NAME_TYPE_SUITE'].replace(typeSuite, range(len(typeSuite))).fillna(np.nan)"
   ]
  },
  {
   "cell_type": "markdown",
   "metadata": {},
   "source": [
    "### WEEKDAY_APPR_PROCESS_START"
   ]
  },
  {
   "cell_type": "code",
   "execution_count": 53,
   "metadata": {},
   "outputs": [],
   "source": [
    "weekday = [\n",
    "    'MONDAY',\n",
    "    'TUESDAY',\n",
    "    'WEDNESDAY',\n",
    "    'THURSDAY',\n",
    "    'FRIDAY',\n",
    "    'SATURDAY',\n",
    "    'SUNDAY'\n",
    "]"
   ]
  },
  {
   "cell_type": "code",
   "execution_count": 54,
   "metadata": {},
   "outputs": [],
   "source": [
    "cleaned_df.loc[:, 'WEEKDAY_APPR_PROCESS_START'] = user_df['WEEKDAY_APPR_PROCESS_START'].replace(weekday, range(len(weekday))).fillna(np.nan)"
   ]
  },
  {
   "cell_type": "markdown",
   "metadata": {},
   "source": [
    "### HOUR_APPR_PROCESS_START"
   ]
  },
  {
   "cell_type": "code",
   "execution_count": 55,
   "metadata": {},
   "outputs": [],
   "source": [
    "cleaned_df.loc[:, 'HOUR_APPR_PROCESS_START'] = user_df['HOUR_APPR_PROCESS_START'].fillna(np.nan)"
   ]
  },
  {
   "cell_type": "markdown",
   "metadata": {},
   "source": [
    "### OTHERS"
   ]
  },
  {
   "cell_type": "code",
   "execution_count": 56,
   "metadata": {},
   "outputs": [],
   "source": [
    "appFactors = [\n",
    "    'AMT_CREDIT',\n",
    "    'AMT_ANNUITY',\n",
    "    'AMT_GOODS_PRICE',\n",
    "    'AMT_REQ_CREDIT_BUREAU_HOUR',\n",
    "    'AMT_REQ_CREDIT_BUREAU_DAY',\n",
    "    'AMT_REQ_CREDIT_BUREAU_WEEK',\n",
    "    'AMT_REQ_CREDIT_BUREAU_MON',\n",
    "    'AMT_REQ_CREDIT_BUREAU_QRT',\n",
    "    'AMT_REQ_CREDIT_BUREAU_YEAR',\n",
    "    'FLAG_DOCUMENT_2',\n",
    "    'FLAG_DOCUMENT_3',\n",
    "    'FLAG_DOCUMENT_4',\n",
    "    'FLAG_DOCUMENT_5',\n",
    "    'FLAG_DOCUMENT_6',\n",
    "    'FLAG_DOCUMENT_7',\n",
    "    'FLAG_DOCUMENT_8',\n",
    "    'FLAG_DOCUMENT_9',\n",
    "    'FLAG_DOCUMENT_10',\n",
    "    'FLAG_DOCUMENT_11',\n",
    "    'FLAG_DOCUMENT_12',\n",
    "    'FLAG_DOCUMENT_13',\n",
    "    'FLAG_DOCUMENT_14',\n",
    "    'FLAG_DOCUMENT_15',\n",
    "    'FLAG_DOCUMENT_16',\n",
    "    'FLAG_DOCUMENT_17',\n",
    "    'FLAG_DOCUMENT_18',\n",
    "    'FLAG_DOCUMENT_19',\n",
    "    'FLAG_DOCUMENT_20',\n",
    "    'FLAG_DOCUMENT_21'\n",
    "]"
   ]
  },
  {
   "cell_type": "code",
   "execution_count": 57,
   "metadata": {},
   "outputs": [],
   "source": [
    "for curFactor in appFactors:\n",
    "    cleaned_df.loc[:, curFactor] = user_df[curFactor].fillna(np.nan)"
   ]
  },
  {
   "cell_type": "markdown",
   "metadata": {},
   "source": [
    "## 申请者社交状况\n",
    "\n",
    "- OBS_30_CNT_SOCIAL_CIRCLE\n",
    "- DEF_30_CNT_SOCIAL_CIRCLE\n",
    "- OBS_60_CNT_SOCIAL_CIRCLE\n",
    "- DEF_60_CNT_SOCIAL_CIRCLE"
   ]
  },
  {
   "cell_type": "code",
   "execution_count": 59,
   "metadata": {},
   "outputs": [],
   "source": [
    "socialFactors=[\n",
    "    'OBS_30_CNT_SOCIAL_CIRCLE',\n",
    "    'DEF_30_CNT_SOCIAL_CIRCLE',\n",
    "    'OBS_60_CNT_SOCIAL_CIRCLE',\n",
    "    'DEF_60_CNT_SOCIAL_CIRCLE'\n",
    "]"
   ]
  },
  {
   "cell_type": "code",
   "execution_count": 60,
   "metadata": {},
   "outputs": [],
   "source": [
    "for curFactor in socialFactors:\n",
    "    cleaned_df.loc[:, curFactor] = user_df[curFactor].fillna(np.nan)"
   ]
  }
 ],
 "metadata": {
  "kernelspec": {
   "display_name": "Python 3",
   "language": "python",
   "name": "python3"
  },
  "language_info": {
   "codemirror_mode": {
    "name": "ipython",
    "version": 3
   },
   "file_extension": ".py",
   "mimetype": "text/x-python",
   "name": "python",
   "nbconvert_exporter": "python",
   "pygments_lexer": "ipython3",
   "version": "3.6.4"
  }
 },
 "nbformat": 4,
 "nbformat_minor": 2
}
