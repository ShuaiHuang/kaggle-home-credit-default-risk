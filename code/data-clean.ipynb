{
 "cells": [
  {
   "cell_type": "markdown",
   "metadata": {},
   "source": [
    "# 数据清洗\n",
    "\n",
    "数据清洗策略子项:\n",
    "- 申请者个人 / 家庭基本信息\n",
    "- 申请者联系方式\n",
    "- 申请者车辆购置情况\n",
    "- 申请者工作情况\n",
    "- 申请者房产情况\n",
    "- 贷款申请材料\n",
    "- 申请者社交状况\n",
    "- 风险评估\n",
    "\n",
    "每个策略子项从两个方面进行清洗:\n",
    "- 与业务逻辑相结合判断是否存在异常值\n",
    "- 从统计学意义上进行判断是否存在异常值\n",
    "\n",
    "清洗完成后:\n",
    "- **标记**异常项, 暂时不删除异常项\n",
    "- 对文本类型的特征项进行数值化处理\n",
    "- 对数值化类型的特征项进行合适的数值化处理\n",
    "- 对于缺失值填充`np.nan`或者单独列成一类"
   ]
  },
  {
   "cell_type": "code",
   "execution_count": 182,
   "metadata": {},
   "outputs": [],
   "source": [
    "import os\n",
    "import pandas as pd\n",
    "import numpy as np\n",
    "import matplotlib.pyplot as plt\n",
    "%matplotlib inline"
   ]
  },
  {
   "cell_type": "code",
   "execution_count": 183,
   "metadata": {},
   "outputs": [],
   "source": [
    "DATA_DIR = '../data'\n",
    "APP_TRAIN_FILENAME = 'application_train.csv'\n",
    "APP_TEST_FILENAME = 'application_test.csv'\n",
    "BUREAU_FILENAME = 'bereau.csv'\n",
    "BUREAU_BALANCE_FILENAME = 'bureau_balance.csv'\n",
    "CREDIT_CARD_BALANCE_FILENAME = 'credit_card_balance.csv'\n",
    "INSTALLMENTS_PAYMENTS = 'installments_payments.csv'\n",
    "POS_CACHE_BALANCE_FILENAME = 'POS_CACHE_balance.csv'\n",
    "PREVIOUS_APP_FILENAME = 'previous_application.csv'"
   ]
  },
  {
   "cell_type": "code",
   "execution_count": 184,
   "metadata": {},
   "outputs": [],
   "source": [
    "user_df = pd.read_csv(os.path.join(DATA_DIR, APP_TRAIN_FILENAME))\n",
    "cleaned_df = user_df.loc[:, ['SK_ID_CURR', 'TARGET']].copy()"
   ]
  },
  {
   "cell_type": "code",
   "execution_count": 185,
   "metadata": {},
   "outputs": [],
   "source": [
    "def detectOutlier(dataSeries):\n",
    "    quantile_1_4 = dataSeries.quantile(0.25)\n",
    "    quantile_3_4 = dataSeries.quantile(0.75)\n",
    "    validRange = 1.5 * (quantile_3_4 - quantile_1_4)\n",
    "    minValue = quantile_1_4 - validRange\n",
    "    maxValue = quantile_3_4 + validRange\n",
    "    return dataSeries[(dataSeries > maxValue) | (dataSeries) < minValue]"
   ]
  },
  {
   "cell_type": "code",
   "execution_count": 186,
   "metadata": {},
   "outputs": [],
   "source": [
    "def detectOutlierRecords(dataFrame, cols):\n",
    "    outlierCounter = np.full((dataFrame.shape[0], ), 0, dtype=np.int)\n",
    "    for col in cols:\n",
    "        curOutlierFlag = detectOutlier(dataFrame[col])\n",
    "        print(col, curOutlierFlag)\n",
    "        outlierCounter[curOutlierFlag] = outlierCounter[curOutlierFlag] + 1\n",
    "    return outlierCounter"
   ]
  },
  {
   "cell_type": "markdown",
   "metadata": {},
   "source": [
    "## 申请者个人 / 家庭基本信息\n",
    "\n",
    "主要包含以下字段:\n",
    "- SK_ID_CURR\n",
    "- TARGET\n",
    "- CODE_GENDER\n",
    "- DAYS_BIRTH\n",
    "- DAYS_REGISTRATION\n",
    "- DAYS_ID_PUBLISH\n",
    "- NAME_EDUCATION_TYPE\n",
    "- CNT_CHILDREN\n",
    "- CNT_FAM_MEMBERS\n",
    "- NAME_FAMILY_STATUS\n",
    "\n",
    "有效性检查包括:\n",
    "\n",
    "- DAYS_BIRTH >= DAYS_REGISTRATION\n",
    "- ~~DAYS_BIRTH >= DAYS_ID_PUBLISH~~\n",
    "- ~~NAME_FAMILY_STATUS 是否与 CNT_CHILDREN 以及 CNT_FAM_MEMBERS 冲突~~\n",
    "- ~~CNT_FAM_MEMBERS < CNT_CHILDREN~~\n",
    "\n",
    "**ATTN**:\n",
    "- 对于原表使用`loc`选择单列是引用, 选择多列是复制."
   ]
  },
  {
   "cell_type": "code",
   "execution_count": 187,
   "metadata": {},
   "outputs": [],
   "source": [
    "PER_FAM_FACTORS = ['SK_ID_CURR', 'TARGET', 'CODE_GENDER',\n",
    "                   'DAYS_BIRTH', 'DAYS_REGISTRATION', 'DAYS_ID_PUBLISH',\n",
    "                   'NAME_EDUCATION_TYPE', 'CNT_CHILDREN', 'CNT_FAM_MEMBERS',\n",
    "                   'NAME_FAMILY_STATUS']"
   ]
  },
  {
   "cell_type": "code",
   "execution_count": 188,
   "metadata": {
    "scrolled": true
   },
   "outputs": [
    {
     "name": "stdout",
     "output_type": "stream",
     "text": [
      "----------------------------------------------------------------------------------------------------\n",
      "        SK_ID_CURR  TARGET  DAYS_BIRTH  DAYS_REGISTRATION\n",
      "266366      408583       0      -10116      -10116.041667\n",
      "----------------------------------------------------------------------------------------------------\n",
      "Empty DataFrame\n",
      "Columns: [SK_ID_CURR, TARGET, DAYS_BIRTH, DAYS_ID_PUBLISH]\n",
      "Index: []\n",
      "----------------------------------------------------------------------------------------------------\n",
      "Empty DataFrame\n",
      "Columns: [SK_ID_CURR, TARGET, CNT_FAM_MEMBERS, CNT_CHILDREN]\n",
      "Index: []\n",
      "----------------------------------------------------------------------------------------------------\n"
     ]
    }
   ],
   "source": [
    "print('-' * 100)\n",
    "print(user_df.loc[user_df['DAYS_BIRTH'] > user_df['DAYS_REGISTRATION'], ['SK_ID_CURR', 'TARGET', 'DAYS_BIRTH', 'DAYS_REGISTRATION']])\n",
    "print('-' * 100)\n",
    "print(user_df.loc[user_df['DAYS_BIRTH'] > user_df['DAYS_ID_PUBLISH'], ['SK_ID_CURR', 'TARGET', 'DAYS_BIRTH', 'DAYS_ID_PUBLISH']])\n",
    "print('-' * 100)\n",
    "print(user_df.loc[user_df['CNT_FAM_MEMBERS'] < user_df['CNT_CHILDREN'], ['SK_ID_CURR', 'TARGET', 'CNT_FAM_MEMBERS', 'CNT_CHILDREN']])\n",
    "print('-' * 100)"
   ]
  },
  {
   "cell_type": "markdown",
   "metadata": {},
   "source": [
    "### CODE_GENDER\n",
    "\n",
    "- 'M' - 0\n",
    "- 'F' - 1\n",
    "- 'XNA' - `np.nan`"
   ]
  },
  {
   "cell_type": "code",
   "execution_count": 189,
   "metadata": {},
   "outputs": [
    {
     "data": {
      "text/plain": [
       "array(['M', 'F', 'XNA'], dtype=object)"
      ]
     },
     "execution_count": 189,
     "metadata": {},
     "output_type": "execute_result"
    }
   ],
   "source": [
    "user_df.loc[:, 'CODE_GENDER'].unique()"
   ]
  },
  {
   "cell_type": "code",
   "execution_count": 190,
   "metadata": {},
   "outputs": [],
   "source": [
    "cleaned_df.loc[:, 'CODE_GENDER'] = user_df['CODE_GENDER'].replace(['M', 'F', 'XNA'], [0, 1, np.nan])"
   ]
  },
  {
   "cell_type": "markdown",
   "metadata": {},
   "source": [
    "### DAYS_BIRTH"
   ]
  },
  {
   "cell_type": "code",
   "execution_count": 191,
   "metadata": {},
   "outputs": [],
   "source": [
    "cleaned_df.loc[:, 'DAYS_BIRTH'] = -user_df['DAYS_BIRTH']"
   ]
  },
  {
   "cell_type": "markdown",
   "metadata": {},
   "source": [
    "### DAYS_REGISTRATION"
   ]
  },
  {
   "cell_type": "code",
   "execution_count": 192,
   "metadata": {},
   "outputs": [],
   "source": [
    "cleaned_df.loc[:, 'DAYS_REGISTRATION'] = -user_df['DAYS_REGISTRATION']"
   ]
  },
  {
   "cell_type": "markdown",
   "metadata": {},
   "source": [
    "### DAYS_ID_PUBLISH"
   ]
  },
  {
   "cell_type": "code",
   "execution_count": 193,
   "metadata": {},
   "outputs": [],
   "source": [
    "cleaned_df.loc[:, 'DAYS_ID_PUBLISH'] = -user_df['DAYS_ID_PUBLISH']"
   ]
  },
  {
   "cell_type": "markdown",
   "metadata": {},
   "source": [
    "### NAME_EDUCATION_TYPE\n",
    "\n",
    "- `Secondary / secondary special` - 0\n",
    "- `Higher education` - 1\n",
    "- `Incomplete higher` - 2\n",
    "- `Lower secondary` - 3\n",
    "- `Academic degree` - 4"
   ]
  },
  {
   "cell_type": "code",
   "execution_count": 194,
   "metadata": {},
   "outputs": [],
   "source": [
    "cleaned_df.loc[:, 'NAME_EDUCATION_TYPE'] = user_df['NAME_EDUCATION_TYPE'].replace(['Secondary / secondary special', 'Higher education', 'Incomplete higher', 'Lower secondary', 'Academic degree'], range(0, 5))"
   ]
  },
  {
   "cell_type": "markdown",
   "metadata": {},
   "source": [
    "### CNT_CHILDREN"
   ]
  },
  {
   "cell_type": "code",
   "execution_count": 195,
   "metadata": {},
   "outputs": [],
   "source": [
    "cleaned_df.loc[:, 'CNT_CHILDREN'] = user_df['CNT_CHILDREN']"
   ]
  },
  {
   "cell_type": "markdown",
   "metadata": {},
   "source": [
    "### CNT_FAM_MEMBERS"
   ]
  },
  {
   "cell_type": "code",
   "execution_count": 196,
   "metadata": {},
   "outputs": [],
   "source": [
    "cleaned_df.loc[:, 'CNT_FAM_MEMBERS'] = user_df['CNT_FAM_MEMBERS'].fillna(np.nan)"
   ]
  },
  {
   "cell_type": "markdown",
   "metadata": {},
   "source": [
    "### NAME_FAMILY_STATUS\n",
    "\n",
    "- Married 0\n",
    "- Single / not married 1\n",
    "- Civil marriage 2\n",
    "- Separated 3\n",
    "- Widow 4\n",
    "- Unknown 5"
   ]
  },
  {
   "cell_type": "code",
   "execution_count": 197,
   "metadata": {},
   "outputs": [],
   "source": [
    "cleaned_df.loc[:, 'NAME_FAMILY_STATUS'] = user_df['NAME_FAMILY_STATUS'].replace(['Married', 'Single / not married', 'Civil marriage', 'Separated', 'Widow', 'Unknown'], [0, 1, 2, 3, 4, np.nan])"
   ]
  },
  {
   "cell_type": "markdown",
   "metadata": {},
   "source": [
    "## 申请者联系方式\n",
    "\n",
    "- FLAG_MOBIL\n",
    "- FLAG_PHONE\n",
    "- FLAG_EMAIL\n",
    "- FLAG_CONT_MOBILE"
   ]
  },
  {
   "cell_type": "code",
   "execution_count": 198,
   "metadata": {},
   "outputs": [],
   "source": [
    "CONTACT_FACTOR = ['FLAG_MOBIL', 'FLAG_PHONE', 'FLAG_EMAIL', 'FLAG_CONT_MOBILE']"
   ]
  },
  {
   "cell_type": "markdown",
   "metadata": {},
   "source": [
    "### FLAG_MOBIL"
   ]
  },
  {
   "cell_type": "code",
   "execution_count": 199,
   "metadata": {},
   "outputs": [],
   "source": [
    "cleaned_df.loc[:, 'FLAG_MOBIL'] = user_df['FLAG_MOBIL']"
   ]
  },
  {
   "cell_type": "markdown",
   "metadata": {},
   "source": [
    "### FLAG_PHONE"
   ]
  },
  {
   "cell_type": "code",
   "execution_count": 200,
   "metadata": {},
   "outputs": [],
   "source": [
    "cleaned_df.loc[:, 'FLAG_PHONE'] = user_df['FLAG_PHONE']"
   ]
  },
  {
   "cell_type": "markdown",
   "metadata": {},
   "source": [
    "### FLAG_EMAIL"
   ]
  },
  {
   "cell_type": "code",
   "execution_count": 201,
   "metadata": {},
   "outputs": [],
   "source": [
    "cleaned_df.loc[:, 'FLAG_EMAIL'] = user_df['FLAG_EMAIL']"
   ]
  },
  {
   "cell_type": "markdown",
   "metadata": {},
   "source": [
    "### FLAG_CONT_MOBILE"
   ]
  },
  {
   "cell_type": "code",
   "execution_count": 202,
   "metadata": {},
   "outputs": [],
   "source": [
    "cleaned_df.loc[:, 'FLAG_CONT_MOBILE'] = user_df['FLAG_CONT_MOBILE']"
   ]
  },
  {
   "cell_type": "markdown",
   "metadata": {},
   "source": [
    "## 申请者车辆购置情况\n",
    "\n",
    "- FLAG_OWN_CAR\n",
    "- OWN_CAR_AGE"
   ]
  },
  {
   "cell_type": "markdown",
   "metadata": {},
   "source": [
    "### FLAG_OWN_CAR\n",
    "\n",
    "- N - 0\n",
    "- Y - 1"
   ]
  },
  {
   "cell_type": "code",
   "execution_count": 203,
   "metadata": {},
   "outputs": [],
   "source": [
    "cleaned_df.loc[:, 'FLAG_OWN_CAR'] = user_df['FLAG_OWN_CAR'].replace(['N', 'Y'], [0, 1])"
   ]
  },
  {
   "cell_type": "markdown",
   "metadata": {},
   "source": [
    "### OWN_CAR_AGE"
   ]
  },
  {
   "cell_type": "code",
   "execution_count": 204,
   "metadata": {},
   "outputs": [],
   "source": [
    "cleaned_df.loc[:, 'OWN_CAR_AGE'] = user_df['OWN_CAR_AGE'].fillna(np.nan)"
   ]
  },
  {
   "cell_type": "markdown",
   "metadata": {},
   "source": [
    "## 申请者工作情况\n",
    "\n",
    "- DAYS_EMPLOYED\n",
    "- FLAG_EMP_PHONE\n",
    "- FLAG_WORK_PHONE\n",
    "- ORGANIZATION_TYPE\n",
    "- NAME_INCOME_TYPE\n",
    "- OCCUPATION_TYPE"
   ]
  },
  {
   "cell_type": "markdown",
   "metadata": {},
   "source": [
    "### DAYS_EMPLOYED"
   ]
  },
  {
   "cell_type": "code",
   "execution_count": 205,
   "metadata": {},
   "outputs": [],
   "source": [
    "cleaned_df.loc[:, 'DAYS_EMPLOYED'] = -(user_df['DAYS_EMPLOYED'].replace(365243, np.nan))"
   ]
  },
  {
   "cell_type": "markdown",
   "metadata": {},
   "source": [
    "### FLAG_EMP_PHONE"
   ]
  },
  {
   "cell_type": "code",
   "execution_count": 206,
   "metadata": {},
   "outputs": [],
   "source": [
    "cleaned_df.loc[:, 'FLAG_EMP_PHONE'] = user_df['FLAG_EMP_PHONE']"
   ]
  },
  {
   "cell_type": "markdown",
   "metadata": {},
   "source": [
    "### FLAG_WORK_PHONE"
   ]
  },
  {
   "cell_type": "code",
   "execution_count": 207,
   "metadata": {},
   "outputs": [],
   "source": [
    "cleaned_df.loc[:, 'FLAG_WORK_PHONE'] = user_df['FLAG_WORK_PHONE']"
   ]
  },
  {
   "cell_type": "markdown",
   "metadata": {},
   "source": [
    "### ORGANIZATION_TYPE\n",
    "\n",
    "没有缺失值, 直接映射成数值."
   ]
  },
  {
   "cell_type": "code",
   "execution_count": 208,
   "metadata": {},
   "outputs": [],
   "source": [
    "cleaned_df.loc[:, 'ORGANIZATION_TYPE'] = user_df['ORGANIZATION_TYPE'].replace(user_df['ORGANIZATION_TYPE'].unique(), range(len(user_df['ORGANIZATION_TYPE'].unique())))"
   ]
  },
  {
   "cell_type": "markdown",
   "metadata": {},
   "source": [
    "### NAME_INCOME_TYPE\n",
    "\n",
    "没有缺失值, 直接映射成数值."
   ]
  },
  {
   "cell_type": "code",
   "execution_count": 209,
   "metadata": {},
   "outputs": [],
   "source": [
    "cleaned_df.loc[:, 'NAME_INCOME_TYPE'] = user_df['NAME_INCOME_TYPE'].replace(user_df['NAME_INCOME_TYPE'].unique(), range(len(user_df['NAME_INCOME_TYPE'].unique())))"
   ]
  },
  {
   "cell_type": "markdown",
   "metadata": {},
   "source": [
    "### OCCUPATION_TYPE"
   ]
  },
  {
   "cell_type": "code",
   "execution_count": 220,
   "metadata": {},
   "outputs": [],
   "source": [
    "occupationType = user_df.loc[user_df['OCCUPATION_TYPE'].notnull(), 'OCCUPATION_TYPE'].unique()"
   ]
  },
  {
   "cell_type": "code",
   "execution_count": 223,
   "metadata": {},
   "outputs": [],
   "source": [
    "cleaned_df.loc[:, 'OCCUPATION_TYPE'] = user_df['OCCUPATION_TYPE'].replace(occupationType, range(len(occupationType)))"
   ]
  }
 ],
 "metadata": {
  "kernelspec": {
   "display_name": "Python 3",
   "language": "python",
   "name": "python3"
  },
  "language_info": {
   "codemirror_mode": {
    "name": "ipython",
    "version": 3
   },
   "file_extension": ".py",
   "mimetype": "text/x-python",
   "name": "python",
   "nbconvert_exporter": "python",
   "pygments_lexer": "ipython3",
   "version": "3.6.4"
  }
 },
 "nbformat": 4,
 "nbformat_minor": 2
}
