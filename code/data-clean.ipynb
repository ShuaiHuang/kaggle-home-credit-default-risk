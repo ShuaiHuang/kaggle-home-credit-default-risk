{
 "cells": [
  {
   "cell_type": "markdown",
   "metadata": {},
   "source": [
    "# 数据清洗\n",
    "\n",
    "数据清洗策略子项:\n",
    "- 申请者个人 / 家庭基本信息\n",
    "- 申请者联系方式\n",
    "- 申请者车辆购置情况\n",
    "- 申请者工作情况\n",
    "- 申请者房产情况\n",
    "- 贷款申请材料\n",
    "- 申请者社交状况\n",
    "- 风险评估\n",
    "\n",
    "每个策略子项从两个方面进行清洗:\n",
    "- 与业务逻辑相结合判断是否存在异常值\n",
    "- 从统计学意义上进行判断是否存在异常值\n",
    "\n",
    "清洗完成后:\n",
    "- **标记**异常项, 暂时不删除异常项\n",
    "- 对文本类型的特征项进行数值化处理\n",
    "- 对数值化类型的特征项进行合适的数值化处理\n",
    "- 对于缺失值填充`np.nan`或者单独列成一类"
   ]
  },
  {
   "cell_type": "code",
   "execution_count": 1,
   "metadata": {},
   "outputs": [],
   "source": [
    "import os\n",
    "import pandas as pd\n",
    "import numpy as np\n",
    "import matplotlib.pyplot as plt\n",
    "%matplotlib inline"
   ]
  },
  {
   "cell_type": "code",
   "execution_count": 2,
   "metadata": {},
   "outputs": [],
   "source": [
    "DATA_DIR = '../data'\n",
    "APP_TRAIN_FILENAME = 'application_train.csv'\n",
    "APP_TEST_FILENAME = 'application_test.csv'\n",
    "BUREAU_FILENAME = 'bereau.csv'\n",
    "BUREAU_BALANCE_FILENAME = 'bureau_balance.csv'\n",
    "CREDIT_CARD_BALANCE_FILENAME = 'credit_card_balance.csv'\n",
    "INSTALLMENTS_PAYMENTS = 'installments_payments.csv'\n",
    "POS_CACHE_BALANCE_FILENAME = 'POS_CACHE_balance.csv'\n",
    "PREVIOUS_APP_FILENAME = 'previous_application.csv'"
   ]
  },
  {
   "cell_type": "code",
   "execution_count": 3,
   "metadata": {},
   "outputs": [],
   "source": [
    "user_df = pd.read_csv(os.path.join(DATA_DIR, APP_TRAIN_FILENAME))"
   ]
  },
  {
   "cell_type": "markdown",
   "metadata": {},
   "source": [
    "## 申请者个人 / 家庭基本信息\n",
    "\n",
    "主要包含以下字段:\n",
    "- SK_ID_CURR\n",
    "- TARGET\n",
    "- CODE_GENDER\n",
    "- DAYS_BIRTH\n",
    "- DAYS_REGISTRATION\n",
    "- DAYS_ID_PUBLISH\n",
    "- NAME_EDUCATION_TYPE\n",
    "- CNT_CHILDREN\n",
    "- CNT_FAM_MEMBERS\n",
    "- NAME_FAMILY_STATUS\n",
    "\n",
    "有效性检查包括:\n",
    "\n",
    "- DAYS_BIRTH >= DAYS_REGISTRATION\n",
    "- DAYS_BIRTH >= DAYS_ID_PUBLISH\n",
    "- NAME_FAMILY_STATUS 是否与 CNT_CHILDREN 以及 CNT_FAM_MEMBERS 冲突\n",
    "- CNT_FAM_MEMBERS < CNT_CHILDREN"
   ]
  },
  {
   "cell_type": "code",
   "execution_count": 7,
   "metadata": {},
   "outputs": [],
   "source": [
    "PER_FAM_FACTORS = ['SK_ID_CURR', 'TARGET', 'CODE_GENDER',\n",
    "                  'DAYS_BIRTH', 'DAYS_REGISTRATION', 'DAYS_ID_PUBLISH',\n",
    "                  'NAME_EDUCATION_TYPE', 'CNT_CHILDREN', 'CNT_FAM_MEMBERS',\n",
    "                  'NAME_FAMILY_STATUS']\n",
    "user_per_fam_df = user_df[PER_FAM_FACTORS]"
   ]
  },
  {
   "cell_type": "code",
   "execution_count": 9,
   "metadata": {},
   "outputs": [
    {
     "data": {
      "text/html": [
       "<div>\n",
       "<style scoped>\n",
       "    .dataframe tbody tr th:only-of-type {\n",
       "        vertical-align: middle;\n",
       "    }\n",
       "\n",
       "    .dataframe tbody tr th {\n",
       "        vertical-align: top;\n",
       "    }\n",
       "\n",
       "    .dataframe thead th {\n",
       "        text-align: right;\n",
       "    }\n",
       "</style>\n",
       "<table border=\"1\" class=\"dataframe\">\n",
       "  <thead>\n",
       "    <tr style=\"text-align: right;\">\n",
       "      <th></th>\n",
       "      <th>SK_ID_CURR</th>\n",
       "      <th>TARGET</th>\n",
       "      <th>CODE_GENDER</th>\n",
       "      <th>DAYS_BIRTH</th>\n",
       "      <th>DAYS_REGISTRATION</th>\n",
       "      <th>DAYS_ID_PUBLISH</th>\n",
       "      <th>NAME_EDUCATION_TYPE</th>\n",
       "      <th>CNT_CHILDREN</th>\n",
       "      <th>CNT_FAM_MEMBERS</th>\n",
       "      <th>NAME_FAMILY_STATUS</th>\n",
       "    </tr>\n",
       "  </thead>\n",
       "  <tbody>\n",
       "    <tr>\n",
       "      <th>266366</th>\n",
       "      <td>408583</td>\n",
       "      <td>0</td>\n",
       "      <td>F</td>\n",
       "      <td>-10116</td>\n",
       "      <td>-10116.041667</td>\n",
       "      <td>-2715</td>\n",
       "      <td>Secondary / secondary special</td>\n",
       "      <td>2</td>\n",
       "      <td>4.0</td>\n",
       "      <td>Married</td>\n",
       "    </tr>\n",
       "  </tbody>\n",
       "</table>\n",
       "</div>"
      ],
      "text/plain": [
       "        SK_ID_CURR  TARGET CODE_GENDER  DAYS_BIRTH  DAYS_REGISTRATION  \\\n",
       "266366      408583       0           F      -10116      -10116.041667   \n",
       "\n",
       "        DAYS_ID_PUBLISH            NAME_EDUCATION_TYPE  CNT_CHILDREN  \\\n",
       "266366            -2715  Secondary / secondary special             2   \n",
       "\n",
       "        CNT_FAM_MEMBERS NAME_FAMILY_STATUS  \n",
       "266366              4.0            Married  "
      ]
     },
     "execution_count": 9,
     "metadata": {},
     "output_type": "execute_result"
    }
   ],
   "source": [
    "user_per_fam_df[user_per_fam_df['DAYS_BIRTH'] > user_per_fam_df['DAYS_REGISTRATION']]"
   ]
  },
  {
   "cell_type": "code",
   "execution_count": 10,
   "metadata": {},
   "outputs": [
    {
     "data": {
      "text/html": [
       "<div>\n",
       "<style scoped>\n",
       "    .dataframe tbody tr th:only-of-type {\n",
       "        vertical-align: middle;\n",
       "    }\n",
       "\n",
       "    .dataframe tbody tr th {\n",
       "        vertical-align: top;\n",
       "    }\n",
       "\n",
       "    .dataframe thead th {\n",
       "        text-align: right;\n",
       "    }\n",
       "</style>\n",
       "<table border=\"1\" class=\"dataframe\">\n",
       "  <thead>\n",
       "    <tr style=\"text-align: right;\">\n",
       "      <th></th>\n",
       "      <th>SK_ID_CURR</th>\n",
       "      <th>TARGET</th>\n",
       "      <th>CODE_GENDER</th>\n",
       "      <th>DAYS_BIRTH</th>\n",
       "      <th>DAYS_REGISTRATION</th>\n",
       "      <th>DAYS_ID_PUBLISH</th>\n",
       "      <th>NAME_EDUCATION_TYPE</th>\n",
       "      <th>CNT_CHILDREN</th>\n",
       "      <th>CNT_FAM_MEMBERS</th>\n",
       "      <th>NAME_FAMILY_STATUS</th>\n",
       "    </tr>\n",
       "  </thead>\n",
       "  <tbody>\n",
       "  </tbody>\n",
       "</table>\n",
       "</div>"
      ],
      "text/plain": [
       "Empty DataFrame\n",
       "Columns: [SK_ID_CURR, TARGET, CODE_GENDER, DAYS_BIRTH, DAYS_REGISTRATION, DAYS_ID_PUBLISH, NAME_EDUCATION_TYPE, CNT_CHILDREN, CNT_FAM_MEMBERS, NAME_FAMILY_STATUS]\n",
       "Index: []"
      ]
     },
     "execution_count": 10,
     "metadata": {},
     "output_type": "execute_result"
    }
   ],
   "source": [
    "user_per_fam_df[user_per_fam_df['DAYS_BIRTH'] > user_per_fam_df['DAYS_ID_PUBLISH']]"
   ]
  },
  {
   "cell_type": "code",
   "execution_count": 11,
   "metadata": {},
   "outputs": [
    {
     "data": {
      "text/html": [
       "<div>\n",
       "<style scoped>\n",
       "    .dataframe tbody tr th:only-of-type {\n",
       "        vertical-align: middle;\n",
       "    }\n",
       "\n",
       "    .dataframe tbody tr th {\n",
       "        vertical-align: top;\n",
       "    }\n",
       "\n",
       "    .dataframe thead th {\n",
       "        text-align: right;\n",
       "    }\n",
       "</style>\n",
       "<table border=\"1\" class=\"dataframe\">\n",
       "  <thead>\n",
       "    <tr style=\"text-align: right;\">\n",
       "      <th></th>\n",
       "      <th>SK_ID_CURR</th>\n",
       "      <th>TARGET</th>\n",
       "      <th>CODE_GENDER</th>\n",
       "      <th>DAYS_BIRTH</th>\n",
       "      <th>DAYS_REGISTRATION</th>\n",
       "      <th>DAYS_ID_PUBLISH</th>\n",
       "      <th>NAME_EDUCATION_TYPE</th>\n",
       "      <th>CNT_CHILDREN</th>\n",
       "      <th>CNT_FAM_MEMBERS</th>\n",
       "      <th>NAME_FAMILY_STATUS</th>\n",
       "    </tr>\n",
       "  </thead>\n",
       "  <tbody>\n",
       "  </tbody>\n",
       "</table>\n",
       "</div>"
      ],
      "text/plain": [
       "Empty DataFrame\n",
       "Columns: [SK_ID_CURR, TARGET, CODE_GENDER, DAYS_BIRTH, DAYS_REGISTRATION, DAYS_ID_PUBLISH, NAME_EDUCATION_TYPE, CNT_CHILDREN, CNT_FAM_MEMBERS, NAME_FAMILY_STATUS]\n",
       "Index: []"
      ]
     },
     "execution_count": 11,
     "metadata": {},
     "output_type": "execute_result"
    }
   ],
   "source": [
    "user_per_fam_df[user_per_fam_df['CNT_FAM_MEMBERS'] < user_per_fam_df['CNT_CHILDREN']]"
   ]
  }
 ],
 "metadata": {
  "kernelspec": {
   "display_name": "Python 3",
   "language": "python",
   "name": "python3"
  },
  "language_info": {
   "codemirror_mode": {
    "name": "ipython",
    "version": 3
   },
   "file_extension": ".py",
   "mimetype": "text/x-python",
   "name": "python",
   "nbconvert_exporter": "python",
   "pygments_lexer": "ipython3",
   "version": "3.6.4"
  }
 },
 "nbformat": 4,
 "nbformat_minor": 2
}
